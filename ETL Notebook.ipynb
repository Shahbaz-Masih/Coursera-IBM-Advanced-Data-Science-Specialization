{
    "cells": [
        {
            "cell_type": "markdown",
            "metadata": {
                "collapsed": true
            },
            "source": "# ETL Notebook\n## 1. Data Extraction\nThe data was retrieved from UCI machine learning reporsitory and loaded on IBM cloud opbject storage. The link is given below.\nhttps://archive.ics.uci.edu/ml/datasets/Combined+Cycle+Power+Plant\nThe schema definition from UCI repository is given below:\n\nAT = Atmospheric Temperature in C\n V = Exhaust Vacuum Pressure\nAP = Atmospheric Pressure\nRH = Relative Humidity\nPE = Power Output. This is the value we are trying to forecast from the parameters given above."
        },
        {
            "cell_type": "code",
            "execution_count": 37,
            "metadata": {},
            "outputs": [
                {
                    "data": {
                        "text/html": "<div>\n<style scoped>\n    .dataframe tbody tr th:only-of-type {\n        vertical-align: middle;\n    }\n\n    .dataframe tbody tr th {\n        vertical-align: top;\n    }\n\n    .dataframe thead th {\n        text-align: right;\n    }\n</style>\n<table border=\"1\" class=\"dataframe\">\n  <thead>\n    <tr style=\"text-align: right;\">\n      <th></th>\n      <th>AT</th>\n      <th>V</th>\n      <th>AP</th>\n      <th>RH</th>\n      <th>PE</th>\n    </tr>\n  </thead>\n  <tbody>\n    <tr>\n      <th>0</th>\n      <td>14.96</td>\n      <td>41.76</td>\n      <td>1024.07</td>\n      <td>73.17</td>\n      <td>463.26</td>\n    </tr>\n    <tr>\n      <th>1</th>\n      <td>25.18</td>\n      <td>62.96</td>\n      <td>1020.04</td>\n      <td>59.08</td>\n      <td>444.37</td>\n    </tr>\n    <tr>\n      <th>2</th>\n      <td>5.11</td>\n      <td>39.40</td>\n      <td>1012.16</td>\n      <td>92.14</td>\n      <td>488.56</td>\n    </tr>\n    <tr>\n      <th>3</th>\n      <td>20.86</td>\n      <td>57.32</td>\n      <td>1010.24</td>\n      <td>76.64</td>\n      <td>446.48</td>\n    </tr>\n    <tr>\n      <th>4</th>\n      <td>10.82</td>\n      <td>37.50</td>\n      <td>1009.23</td>\n      <td>96.62</td>\n      <td>473.90</td>\n    </tr>\n  </tbody>\n</table>\n</div>",
                        "text/plain": "      AT      V       AP     RH      PE\n0  14.96  41.76  1024.07  73.17  463.26\n1  25.18  62.96  1020.04  59.08  444.37\n2   5.11  39.40  1012.16  92.14  488.56\n3  20.86  57.32  1010.24  76.64  446.48\n4  10.82  37.50  1009.23  96.62  473.90"
                    },
                    "execution_count": 37,
                    "metadata": {},
                    "output_type": "execute_result"
                }
            ],
            "source": "# The code was removed by Watson Studio for sharing."
        },
        {
            "cell_type": "code",
            "execution_count": 2,
            "metadata": {},
            "outputs": [
                {
                    "data": {
                        "text/plain": "(9568, 5)"
                    },
                    "execution_count": 2,
                    "metadata": {},
                    "output_type": "execute_result"
                }
            ],
            "source": "df.shape"
        },
        {
            "cell_type": "markdown",
            "metadata": {},
            "source": "## 2. Data Transformation"
        },
        {
            "cell_type": "markdown",
            "metadata": {},
            "source": "Change the column names to be more representative for the data for enviornmental conditions."
        },
        {
            "cell_type": "code",
            "execution_count": 38,
            "metadata": {},
            "outputs": [
                {
                    "data": {
                        "text/html": "<div>\n<style scoped>\n    .dataframe tbody tr th:only-of-type {\n        vertical-align: middle;\n    }\n\n    .dataframe tbody tr th {\n        vertical-align: top;\n    }\n\n    .dataframe thead th {\n        text-align: right;\n    }\n</style>\n<table border=\"1\" class=\"dataframe\">\n  <thead>\n    <tr style=\"text-align: right;\">\n      <th></th>\n      <th>AtmTemperature</th>\n      <th>ExhaustV</th>\n      <th>AtmPressure</th>\n      <th>RelHumidity</th>\n      <th>PowerOut</th>\n    </tr>\n  </thead>\n  <tbody>\n    <tr>\n      <th>0</th>\n      <td>14.96</td>\n      <td>41.76</td>\n      <td>1024.07</td>\n      <td>73.17</td>\n      <td>463.26</td>\n    </tr>\n    <tr>\n      <th>1</th>\n      <td>25.18</td>\n      <td>62.96</td>\n      <td>1020.04</td>\n      <td>59.08</td>\n      <td>444.37</td>\n    </tr>\n    <tr>\n      <th>2</th>\n      <td>5.11</td>\n      <td>39.40</td>\n      <td>1012.16</td>\n      <td>92.14</td>\n      <td>488.56</td>\n    </tr>\n    <tr>\n      <th>3</th>\n      <td>20.86</td>\n      <td>57.32</td>\n      <td>1010.24</td>\n      <td>76.64</td>\n      <td>446.48</td>\n    </tr>\n    <tr>\n      <th>4</th>\n      <td>10.82</td>\n      <td>37.50</td>\n      <td>1009.23</td>\n      <td>96.62</td>\n      <td>473.90</td>\n    </tr>\n  </tbody>\n</table>\n</div>",
                        "text/plain": "   AtmTemperature  ExhaustV  AtmPressure  RelHumidity  PowerOut\n0           14.96     41.76      1024.07        73.17    463.26\n1           25.18     62.96      1020.04        59.08    444.37\n2            5.11     39.40      1012.16        92.14    488.56\n3           20.86     57.32      1010.24        76.64    446.48\n4           10.82     37.50      1009.23        96.62    473.90"
                    },
                    "execution_count": 38,
                    "metadata": {},
                    "output_type": "execute_result"
                }
            ],
            "source": "df.rename(columns={'AT': 'AtmTemperature', 'V': 'ExhaustV', 'AP': 'AtmPressure', 'RH': 'RelHumidity', 'PE': 'PowerOut'}, inplace=True)\ndf.head()"
        },
        {
            "cell_type": "markdown",
            "metadata": {},
            "source": "Remove the \"NaN\" or non-existent values colums. Forst check the number of \"NaN\" values in each column"
        },
        {
            "cell_type": "code",
            "execution_count": 7,
            "metadata": {},
            "outputs": [
                {
                    "name": "stdout",
                    "output_type": "stream",
                    "text": "Number of null values for the column temperature : 0\nNumber of null values for the column exhaust_vacuum : 0\nNumber of null values for the column ambient_pressure : 0\nNumber of null values for the column relative_humidity : 0\nNumber of null values for the column energy_output : 0\n"
                }
            ],
            "source": "print(\"Number of null values for the column temperature :\", df['AtmTemperature'].isnull().sum())\nprint(\"Number of null values for the column exhaust_vacuum :\", df['ExhaustV'].isnull().sum())\nprint(\"Number of null values for the column ambient_pressure :\", df['AtmPressure'].isnull().sum())\nprint(\"Number of null values for the column relative_humidity :\", df['RelHumidity'].isnull().sum())\nprint(\"Number of null values for the column energy_output :\", df['PowerOut'].isnull().sum())"
        },
        {
            "cell_type": "markdown",
            "metadata": {},
            "source": "Since total number of null values is zero in each column, the removal of non-existent values is not required.\nNow, split the data frame to train and test data frames.\n\nNow, check if there are any zero and null values in any of the columns"
        },
        {
            "cell_type": "code",
            "execution_count": 2,
            "metadata": {},
            "outputs": [
                {
                    "data": {
                        "text/plain": "False"
                    },
                    "execution_count": 2,
                    "metadata": {},
                    "output_type": "execute_result"
                }
            ],
            "source": "df.eq(0).any().any()"
        },
        {
            "cell_type": "code",
            "execution_count": null,
            "metadata": {},
            "outputs": [],
            "source": "The result shows that there are no \"zero\" values in the data set.\n\nFind out if there are any values of relative humidity greater than 100 because relative values can not be greater than hundred generally."
        },
        {
            "cell_type": "code",
            "execution_count": 12,
            "metadata": {},
            "outputs": [
                {
                    "data": {
                        "text/plain": "(55, 5)"
                    },
                    "execution_count": 12,
                    "metadata": {},
                    "output_type": "execute_result"
                }
            ],
            "source": "RHgreaterthan100 = df['RelHumidity'] > 100\n\n# Count all where relative humidity is greater than 100\ndf[RHgreaterthan100].shape"
        },
        {
            "cell_type": "markdown",
            "metadata": {},
            "source": "## Relative Humidity values > 100%\n    Since humidity is given as a percent relative humidity. A check was made if there are any values more than 100% present in the dataset. 55 values were found to be more than 100 %. Before the removal of the 55 records containing relative humidity greater than 100 percent, it was considered prudent to check if relative humidity can exceed 100 %. Relative humidity is defined as \u201cthe amount of water vapor present in air expressed as a percentage of the amount needed for saturation at the same temperature\u201d. At any given temperature and air pressure, a specific maximum amount of water vapor in the air will produce a relative humidity of 100 percent. Supersaturated air literally contains more water vapor than is needed to cause saturation and can have relative humidity of more than 100%. Therefore, relative humidity values of greater than 100% were not removed."
        },
        {
            "cell_type": "markdown",
            "metadata": {},
            "source": "## Z-Score Method to remove the outliers"
        },
        {
            "cell_type": "code",
            "execution_count": 39,
            "metadata": {},
            "outputs": [
                {
                    "name": "stdout",
                    "output_type": "stream",
                    "text": "[[-0.62951938 -0.98729659  1.8204884  -0.00951935  0.52120807]\n [ 0.74190911  0.68104512  1.1418628  -0.97462052 -0.58566442]\n [-1.95129733 -1.17301765 -0.18507756  1.2898397   2.00367889]\n ...\n [ 1.56583973  1.57581141 -0.05709854 -2.52261812 -1.45288056]\n [ 0.64797565  1.19177803  0.1011913  -0.74790051 -1.09134518]\n [ 0.26150656  0.64641916  0.66867722 -0.37254534 -0.06357687]]\n"
                }
            ],
            "source": "from scipy import stats\nimport numpy as np\nz = stats.zscore(df)\nprint(z)"
        },
        {
            "cell_type": "code",
            "execution_count": 72,
            "metadata": {},
            "outputs": [],
            "source": "df1 = df[((z < 3) & (z > -3)).all(axis=1)]"
        },
        {
            "cell_type": "code",
            "execution_count": 73,
            "metadata": {},
            "outputs": [
                {
                    "data": {
                        "text/plain": "(9510, 5)"
                    },
                    "execution_count": 73,
                    "metadata": {},
                    "output_type": "execute_result"
                }
            ],
            "source": "df1.shape"
        },
        {
            "cell_type": "code",
            "execution_count": 25,
            "metadata": {},
            "outputs": [
                {
                    "data": {
                        "text/plain": "[Text(0, 0.5, 'AtmPressure')]"
                    },
                    "execution_count": 25,
                    "metadata": {},
                    "output_type": "execute_result"
                },
                {
                    "data": {
                        "image/png": "[encoded data removed]",
                        "text/plain": "<Figure size 432x288 with 1 Axes>"
                    },
                    "metadata": {
                        "needs_background": "light"
                    },
                    "output_type": "display_data"
                }
            ],
            "source": "import seaborn as sns\nax1 = sns.boxplot(data=df['AtmPressure'])\nax1.set(ylabel='AtmPressure')"
        },
        {
            "cell_type": "code",
            "execution_count": 26,
            "metadata": {},
            "outputs": [
                {
                    "data": {
                        "text/plain": "[Text(0, 0.5, 'RelHumidity')]"
                    },
                    "execution_count": 26,
                    "metadata": {},
                    "output_type": "execute_result"
                },
                {
                    "data": {
                        "image/png": "[encoded data removed]",
                        "text/plain": "<Figure size 432x288 with 1 Axes>"
                    },
                    "metadata": {
                        "needs_background": "light"
                    },
                    "output_type": "display_data"
                }
            ],
            "source": "ax2 = sns.boxplot(data=df['RelHumidity'])\nax2.set(ylabel='RelHumidity')"
        },
        {
            "cell_type": "code",
            "execution_count": 79,
            "metadata": {},
            "outputs": [
                {
                    "data": {
                        "text/plain": "[Text(0, 0.5, 'AtmPressure')]"
                    },
                    "execution_count": 79,
                    "metadata": {},
                    "output_type": "execute_result"
                },
                {
                    "data": {
                        "image/png": "[encoded data removed]",
                        "text/plain": "<Figure size 432x288 with 1 Axes>"
                    },
                    "metadata": {
                        "needs_background": "light"
                    },
                    "output_type": "display_data"
                }
            ],
            "source": "import matplotlib.pyplot as plt\nax3 = sns.boxplot(data=df1['AtmPressure'], palette=\"Reds\")\nax3.set(ylabel='AtmPressure')"
        },
        {
            "cell_type": "code",
            "execution_count": 80,
            "metadata": {},
            "outputs": [
                {
                    "data": {
                        "text/plain": "[Text(0, 0.5, 'RelHumidity')]"
                    },
                    "execution_count": 80,
                    "metadata": {},
                    "output_type": "execute_result"
                },
                {
                    "data": {
                        "image/png": "[encoded data removed]",
                        "text/plain": "<Figure size 432x288 with 1 Axes>"
                    },
                    "metadata": {
                        "needs_background": "light"
                    },
                    "output_type": "display_data"
                }
            ],
            "source": "ax4 = sns.boxplot(data=df1['RelHumidity'], palette=\"Reds\")\nax4.set(ylabel='RelHumidity')"
        },
        {
            "cell_type": "markdown",
            "metadata": {},
            "source": "From the box plots above, it can be concluded that Z-score method has removed outliers from Relative humidity considerably but not from Atmospheric Pressure column."
        },
        {
            "cell_type": "markdown",
            "metadata": {},
            "source": "There are still some outliers present in Atm Pressure as indicated by the box plot above\n\n## IQR-Score Method to remove the outliers"
        },
        {
            "cell_type": "code",
            "execution_count": 29,
            "metadata": {},
            "outputs": [
                {
                    "name": "stdout",
                    "output_type": "stream",
                    "text": "AtmTemperature    12.2100\nExhaustV          24.8000\nAtmPressure        8.1600\nRelHumidity       21.5025\nPowerOut          28.6800\ndtype: float64\n"
                }
            ],
            "source": "Q1 = df.quantile(0.25)\nQ3 = df.quantile(0.75)\nIQR = Q3 - Q1\nprint(IQR)"
        },
        {
            "cell_type": "code",
            "execution_count": 30,
            "metadata": {},
            "outputs": [
                {
                    "data": {
                        "text/plain": "(9468, 5)"
                    },
                    "execution_count": 30,
                    "metadata": {},
                    "output_type": "execute_result"
                }
            ],
            "source": "df2 = df[~((df < (Q1 - 1.5 * IQR)) |(df > (Q3 + 1.5 * IQR))).any(axis=1)]\ndf2.shape"
        },
        {
            "cell_type": "code",
            "execution_count": 83,
            "metadata": {},
            "outputs": [
                {
                    "data": {
                        "text/plain": "[Text(0, 0.5, 'AtmPressure')]"
                    },
                    "execution_count": 83,
                    "metadata": {},
                    "output_type": "execute_result"
                },
                {
                    "data": {
                        "image/png": "[encoded data removed]",
                        "text/plain": "<Figure size 432x288 with 1 Axes>"
                    },
                    "metadata": {
                        "needs_background": "light"
                    },
                    "output_type": "display_data"
                }
            ],
            "source": "ax5 = sns.boxplot(data=df2['AtmPressure'], palette=\"Greens\")\nax5.set(ylabel='AtmPressure')"
        },
        {
            "cell_type": "code",
            "execution_count": 84,
            "metadata": {},
            "outputs": [
                {
                    "data": {
                        "text/plain": "[Text(0, 0.5, 'RelHumidity')]"
                    },
                    "execution_count": 84,
                    "metadata": {},
                    "output_type": "execute_result"
                },
                {
                    "data": {
                        "image/png": "[encoded data removed]",
                        "text/plain": "<Figure size 432x288 with 1 Axes>"
                    },
                    "metadata": {
                        "needs_background": "light"
                    },
                    "output_type": "display_data"
                }
            ],
            "source": "ax6 = sns.boxplot(data=df2['RelHumidity'], palette=\"Greens\")\nax6.set(ylabel='RelHumidity')"
        },
        {
            "cell_type": "markdown",
            "metadata": {},
            "source": "From the box plots above, it can be concluded that IQR-score method has removed outliers from Relative humidity completely and considerably from Atmospheric Pressure column. Therefore IQR method is chosen to filter the data from outliers."
        },
        {
            "cell_type": "code",
            "execution_count": 26,
            "metadata": {},
            "outputs": [],
            "source": "from sklearn.model_selection import train_test_split\n\ntrain, test = train_test_split(df2, test_size=0.2)"
        },
        {
            "cell_type": "code",
            "execution_count": 20,
            "metadata": {},
            "outputs": [
                {
                    "data": {
                        "text/html": "<div>\n<style scoped>\n    .dataframe tbody tr th:only-of-type {\n        vertical-align: middle;\n    }\n\n    .dataframe tbody tr th {\n        vertical-align: top;\n    }\n\n    .dataframe thead th {\n        text-align: right;\n    }\n</style>\n<table border=\"1\" class=\"dataframe\">\n  <thead>\n    <tr style=\"text-align: right;\">\n      <th></th>\n      <th>AtmTemperature</th>\n      <th>ExhaustV</th>\n      <th>AtmPressure</th>\n      <th>RelHumidity</th>\n      <th>PowerOut</th>\n    </tr>\n  </thead>\n  <tbody>\n    <tr>\n      <th>5282</th>\n      <td>31.71</td>\n      <td>69.04</td>\n      <td>1008.79</td>\n      <td>49.32</td>\n      <td>441.15</td>\n    </tr>\n    <tr>\n      <th>1761</th>\n      <td>17.80</td>\n      <td>43.72</td>\n      <td>1008.71</td>\n      <td>78.50</td>\n      <td>458.92</td>\n    </tr>\n    <tr>\n      <th>1748</th>\n      <td>24.77</td>\n      <td>48.92</td>\n      <td>1010.25</td>\n      <td>47.04</td>\n      <td>448.25</td>\n    </tr>\n    <tr>\n      <th>819</th>\n      <td>30.55</td>\n      <td>70.04</td>\n      <td>1010.51</td>\n      <td>49.37</td>\n      <td>429.56</td>\n    </tr>\n    <tr>\n      <th>166</th>\n      <td>18.14</td>\n      <td>49.78</td>\n      <td>1002.95</td>\n      <td>100.09</td>\n      <td>451.44</td>\n    </tr>\n  </tbody>\n</table>\n</div>",
                        "text/plain": "      AtmTemperature  ExhaustV  AtmPressure  RelHumidity  PowerOut\n5282           31.71     69.04      1008.79        49.32    441.15\n1761           17.80     43.72      1008.71        78.50    458.92\n1748           24.77     48.92      1010.25        47.04    448.25\n819            30.55     70.04      1010.51        49.37    429.56\n166            18.14     49.78      1002.95       100.09    451.44"
                    },
                    "execution_count": 20,
                    "metadata": {},
                    "output_type": "execute_result"
                }
            ],
            "source": "train.head()"
        },
        {
            "cell_type": "code",
            "execution_count": 21,
            "metadata": {},
            "outputs": [
                {
                    "data": {
                        "text/html": "<div>\n<style scoped>\n    .dataframe tbody tr th:only-of-type {\n        vertical-align: middle;\n    }\n\n    .dataframe tbody tr th {\n        vertical-align: top;\n    }\n\n    .dataframe thead th {\n        text-align: right;\n    }\n</style>\n<table border=\"1\" class=\"dataframe\">\n  <thead>\n    <tr style=\"text-align: right;\">\n      <th></th>\n      <th>AtmTemperature</th>\n      <th>ExhaustV</th>\n      <th>AtmPressure</th>\n      <th>RelHumidity</th>\n      <th>PowerOut</th>\n    </tr>\n  </thead>\n  <tbody>\n    <tr>\n      <th>7908</th>\n      <td>27.24</td>\n      <td>77.17</td>\n      <td>1009.37</td>\n      <td>81.51</td>\n      <td>439.12</td>\n    </tr>\n    <tr>\n      <th>4672</th>\n      <td>32.38</td>\n      <td>77.24</td>\n      <td>1007.70</td>\n      <td>61.15</td>\n      <td>430.96</td>\n    </tr>\n    <tr>\n      <th>1376</th>\n      <td>23.56</td>\n      <td>42.67</td>\n      <td>1008.01</td>\n      <td>66.76</td>\n      <td>440.69</td>\n    </tr>\n    <tr>\n      <th>6241</th>\n      <td>13.94</td>\n      <td>44.84</td>\n      <td>1023.69</td>\n      <td>95.30</td>\n      <td>468.06</td>\n    </tr>\n    <tr>\n      <th>7436</th>\n      <td>10.33</td>\n      <td>40.60</td>\n      <td>1015.00</td>\n      <td>88.62</td>\n      <td>478.30</td>\n    </tr>\n  </tbody>\n</table>\n</div>",
                        "text/plain": "      AtmTemperature  ExhaustV  AtmPressure  RelHumidity  PowerOut\n7908           27.24     77.17      1009.37        81.51    439.12\n4672           32.38     77.24      1007.70        61.15    430.96\n1376           23.56     42.67      1008.01        66.76    440.69\n6241           13.94     44.84      1023.69        95.30    468.06\n7436           10.33     40.60      1015.00        88.62    478.30"
                    },
                    "execution_count": 21,
                    "metadata": {},
                    "output_type": "execute_result"
                }
            ],
            "source": "test.head()"
        },
        {
            "cell_type": "markdown",
            "metadata": {},
            "source": "## 3. Data Loading"
        },
        {
            "cell_type": "markdown",
            "metadata": {},
            "source": "Now, load test and train data to Spark for data modeling and evaluation"
        },
        {
            "cell_type": "code",
            "execution_count": 22,
            "metadata": {},
            "outputs": [],
            "source": "from pyspark.sql import SQLContext\nsqlContext = SQLContext(sc)"
        },
        {
            "cell_type": "code",
            "execution_count": 23,
            "metadata": {},
            "outputs": [],
            "source": "trainspark_df = sqlContext.createDataFrame(train)\ntestspark_df = sqlContext.createDataFrame(test)"
        },
        {
            "cell_type": "code",
            "execution_count": 25,
            "metadata": {},
            "outputs": [
                {
                    "name": "stdout",
                    "output_type": "stream",
                    "text": "+--------------+--------+-----------+-----------+--------+\n|AtmTemperature|ExhaustV|AtmPressure|RelHumidity|PowerOut|\n+--------------+--------+-----------+-----------+--------+\n|         31.71|   69.04|    1008.79|      49.32|  441.15|\n|          17.8|   43.72|    1008.71|       78.5|  458.92|\n|         24.77|   48.92|    1010.25|      47.04|  448.25|\n|         30.55|   70.04|    1010.51|      49.37|  429.56|\n|         18.14|   49.78|    1002.95|     100.09|  451.44|\n+--------------+--------+-----------+-----------+--------+\nonly showing top 5 rows\n\n"
                }
            ],
            "source": "trainspark_df.show(5)"
        },
        {
            "cell_type": "code",
            "execution_count": 24,
            "metadata": {},
            "outputs": [
                {
                    "name": "stdout",
                    "output_type": "stream",
                    "text": "+--------------+--------+-----------+-----------+--------+\n|AtmTemperature|ExhaustV|AtmPressure|RelHumidity|PowerOut|\n+--------------+--------+-----------+-----------+--------+\n|         27.24|   77.17|    1009.37|      81.51|  439.12|\n|         32.38|   77.24|     1007.7|      61.15|  430.96|\n|         23.56|   42.67|    1008.01|      66.76|  440.69|\n|         13.94|   44.84|    1023.69|       95.3|  468.06|\n|         10.33|    40.6|     1015.0|      88.62|   478.3|\n+--------------+--------+-----------+-----------+--------+\nonly showing top 5 rows\n\n"
                }
            ],
            "source": "testspark_df.show(5)"
        },
        {
            "cell_type": "code",
            "execution_count": null,
            "metadata": {},
            "outputs": [],
            "source": ""
        },
        {
            "cell_type": "code",
            "execution_count": null,
            "metadata": {},
            "outputs": [],
            "source": ""
        }
    ],
    "metadata": {
        "kernelspec": {
            "display_name": "Python 3.6 with Spark",
            "language": "python3",
            "name": "python36"
        },
        "language_info": {
            "codemirror_mode": {
                "name": "ipython",
                "version": 3
            },
            "file_extension": ".py",
            "mimetype": "text/x-python",
            "name": "python",
            "nbconvert_exporter": "python",
            "pygments_lexer": "ipython3",
            "version": "3.6.8"
        }
    },
    "nbformat": 4,
    "nbformat_minor": 1
}