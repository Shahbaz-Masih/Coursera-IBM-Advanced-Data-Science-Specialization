{
    "cells": [
        {
            "cell_type": "markdown",
            "metadata": {
                "collapsed": true
            },
            "source": "# Feature Engineering Notebook\n\nThe data was retrieved from UCI machine learning reporsitory and loaded on IBM cloud opbject storage. The link is given below.\nhttps://archive.ics.uci.edu/ml/datasets/Combined+Cycle+Power+Plant\nThe schema definition from UCI repository is given below:\n\nAT = Atmospheric Temperature in C\n V = Exhaust Vacuum Pressure\nAP = Atmospheric Pressure\nRH = Relative Humidity\nPE = Power Output. This is the value we are trying to forecast from the parameters given above."
        },
        {
            "cell_type": "code",
            "execution_count": 1,
            "metadata": {},
            "outputs": [
                {
                    "name": "stdout",
                    "output_type": "stream",
                    "text": "Waiting for a Spark session to start...\nSpark Initialization Done! ApplicationId = app-20200615151857-0000\nKERNEL_ID = 6255af89-9d5e-4ba2-972b-e5f5950144ee\n"
                },
                {
                    "data": {
                        "text/html": "<div>\n<style scoped>\n    .dataframe tbody tr th:only-of-type {\n        vertical-align: middle;\n    }\n\n    .dataframe tbody tr th {\n        vertical-align: top;\n    }\n\n    .dataframe thead th {\n        text-align: right;\n    }\n</style>\n<table border=\"1\" class=\"dataframe\">\n  <thead>\n    <tr style=\"text-align: right;\">\n      <th></th>\n      <th>AT</th>\n      <th>V</th>\n      <th>AP</th>\n      <th>RH</th>\n      <th>PE</th>\n    </tr>\n  </thead>\n  <tbody>\n    <tr>\n      <th>0</th>\n      <td>14.96</td>\n      <td>41.76</td>\n      <td>1024.07</td>\n      <td>73.17</td>\n      <td>463.26</td>\n    </tr>\n    <tr>\n      <th>1</th>\n      <td>25.18</td>\n      <td>62.96</td>\n      <td>1020.04</td>\n      <td>59.08</td>\n      <td>444.37</td>\n    </tr>\n    <tr>\n      <th>2</th>\n      <td>5.11</td>\n      <td>39.40</td>\n      <td>1012.16</td>\n      <td>92.14</td>\n      <td>488.56</td>\n    </tr>\n    <tr>\n      <th>3</th>\n      <td>20.86</td>\n      <td>57.32</td>\n      <td>1010.24</td>\n      <td>76.64</td>\n      <td>446.48</td>\n    </tr>\n    <tr>\n      <th>4</th>\n      <td>10.82</td>\n      <td>37.50</td>\n      <td>1009.23</td>\n      <td>96.62</td>\n      <td>473.90</td>\n    </tr>\n  </tbody>\n</table>\n</div>",
                        "text/plain": "      AT      V       AP     RH      PE\n0  14.96  41.76  1024.07  73.17  463.26\n1  25.18  62.96  1020.04  59.08  444.37\n2   5.11  39.40  1012.16  92.14  488.56\n3  20.86  57.32  1010.24  76.64  446.48\n4  10.82  37.50  1009.23  96.62  473.90"
                    },
                    "execution_count": 1,
                    "metadata": {},
                    "output_type": "execute_result"
                }
            ],
            "source": "# The code was removed by Watson Studio for sharing."
        },
        {
            "cell_type": "markdown",
            "metadata": {},
            "source": "Change the column names to be more representative for the data for enviornmental conditions."
        },
        {
            "cell_type": "markdown",
            "metadata": {},
            "source": "# Correlation matrix for feature engineering"
        },
        {
            "cell_type": "code",
            "execution_count": 15,
            "metadata": {},
            "outputs": [
                {
                    "data": {
                        "text/html": "<div>\n<style scoped>\n    .dataframe tbody tr th:only-of-type {\n        vertical-align: middle;\n    }\n\n    .dataframe tbody tr th {\n        vertical-align: top;\n    }\n\n    .dataframe thead th {\n        text-align: right;\n    }\n</style>\n<table border=\"1\" class=\"dataframe\">\n  <thead>\n    <tr style=\"text-align: right;\">\n      <th></th>\n      <th>AtmTemperature</th>\n      <th>ExhaustV</th>\n      <th>AtmPressure</th>\n      <th>RelHumidity</th>\n      <th>PowerOut</th>\n    </tr>\n  </thead>\n  <tbody>\n    <tr>\n      <th>AtmTemperature</th>\n      <td>1.000000</td>\n      <td>0.844107</td>\n      <td>-0.507549</td>\n      <td>-0.542535</td>\n      <td>-0.948128</td>\n    </tr>\n    <tr>\n      <th>ExhaustV</th>\n      <td>0.844107</td>\n      <td>1.000000</td>\n      <td>-0.413502</td>\n      <td>-0.312187</td>\n      <td>-0.869780</td>\n    </tr>\n    <tr>\n      <th>AtmPressure</th>\n      <td>-0.507549</td>\n      <td>-0.413502</td>\n      <td>1.000000</td>\n      <td>0.099574</td>\n      <td>0.518429</td>\n    </tr>\n    <tr>\n      <th>RelHumidity</th>\n      <td>-0.542535</td>\n      <td>-0.312187</td>\n      <td>0.099574</td>\n      <td>1.000000</td>\n      <td>0.389794</td>\n    </tr>\n    <tr>\n      <th>PowerOut</th>\n      <td>-0.948128</td>\n      <td>-0.869780</td>\n      <td>0.518429</td>\n      <td>0.389794</td>\n      <td>1.000000</td>\n    </tr>\n  </tbody>\n</table>\n</div>",
                        "text/plain": "                AtmTemperature  ExhaustV  AtmPressure  RelHumidity  PowerOut\nAtmTemperature        1.000000  0.844107    -0.507549    -0.542535 -0.948128\nExhaustV              0.844107  1.000000    -0.413502    -0.312187 -0.869780\nAtmPressure          -0.507549 -0.413502     1.000000     0.099574  0.518429\nRelHumidity          -0.542535 -0.312187     0.099574     1.000000  0.389794\nPowerOut             -0.948128 -0.869780     0.518429     0.389794  1.000000"
                    },
                    "execution_count": 15,
                    "metadata": {},
                    "output_type": "execute_result"
                }
            ],
            "source": "df.corr()"
        },
        {
            "cell_type": "code",
            "execution_count": 9,
            "metadata": {},
            "outputs": [
                {
                    "data": {
                        "image/png": "[encoded data removed]",
                        "text/plain": "<Figure size 576x504 with 2 Axes>"
                    },
                    "metadata": {
                        "needs_background": "light"
                    },
                    "output_type": "display_data"
                }
            ],
            "source": "import requests \nimport pandas as pd\nimport numpy as np\nimport seaborn as sns\nimport matplotlib.pyplot as plt\n# Plotting correlation matrix\ndef coll_plot(df, title):\n    corr = df.corr()\n    mask = np.zeros_like(corr, dtype=np.bool)\n    mask[np.triu_indices_from(mask)] = False\n    f, ax = plt.subplots(figsize=(8, 7))\n    plt.title(title)\n    cmap = sns.diverging_palette(-100, 100, as_cmap=True)\n    sns.heatmap(corr, mask=mask, cmap=cmap, vmax=1, center=0, linewidths=1)\n    \ncoll_plot(df, 'Correlation matrix')"
        },
        {
            "cell_type": "markdown",
            "metadata": {},
            "source": "Correlation matrix shows that Ambient temperature and exhaust vacuum are strongly linearly related to each other and to the power output, while Atmospheric pressure and relative humidity have weak linear relations to all other variables and output. Therefore, ambient temperature and exhaust vacuum pressure are considered governing variables (i.e. these two as input features). The atmospheric pressure correlates stronger with the plant power output that also defines an features variation. The effect of absence and presence of each of variable on regression modeling can be studied by feature engineering. Therefore models (or pipelines for models) were created with all four independent variables as input features, 3 independent variables (ambient temperature,  exhaust vacuum pressure, and atmospheric pressure) as input features and two independent variables (ambient temperature and exhaust vacuum pressure) as input features. The process of building pipelines will be discussed in more detail in the modeling section."
        },
        {
            "cell_type": "code",
            "execution_count": 2,
            "metadata": {},
            "outputs": [
                {
                    "data": {
                        "text/html": "<div>\n<style scoped>\n    .dataframe tbody tr th:only-of-type {\n        vertical-align: middle;\n    }\n\n    .dataframe tbody tr th {\n        vertical-align: top;\n    }\n\n    .dataframe thead th {\n        text-align: right;\n    }\n</style>\n<table border=\"1\" class=\"dataframe\">\n  <thead>\n    <tr style=\"text-align: right;\">\n      <th></th>\n      <th>AtmTemperature</th>\n      <th>ExhaustV</th>\n      <th>AtmPressure</th>\n      <th>RelHumidity</th>\n      <th>PowerOut</th>\n    </tr>\n  </thead>\n  <tbody>\n    <tr>\n      <th>0</th>\n      <td>14.96</td>\n      <td>41.76</td>\n      <td>1024.07</td>\n      <td>73.17</td>\n      <td>463.26</td>\n    </tr>\n    <tr>\n      <th>1</th>\n      <td>25.18</td>\n      <td>62.96</td>\n      <td>1020.04</td>\n      <td>59.08</td>\n      <td>444.37</td>\n    </tr>\n    <tr>\n      <th>2</th>\n      <td>5.11</td>\n      <td>39.40</td>\n      <td>1012.16</td>\n      <td>92.14</td>\n      <td>488.56</td>\n    </tr>\n    <tr>\n      <th>3</th>\n      <td>20.86</td>\n      <td>57.32</td>\n      <td>1010.24</td>\n      <td>76.64</td>\n      <td>446.48</td>\n    </tr>\n    <tr>\n      <th>4</th>\n      <td>10.82</td>\n      <td>37.50</td>\n      <td>1009.23</td>\n      <td>96.62</td>\n      <td>473.90</td>\n    </tr>\n  </tbody>\n</table>\n</div>",
                        "text/plain": "   AtmTemperature  ExhaustV  AtmPressure  RelHumidity  PowerOut\n0           14.96     41.76      1024.07        73.17    463.26\n1           25.18     62.96      1020.04        59.08    444.37\n2            5.11     39.40      1012.16        92.14    488.56\n3           20.86     57.32      1010.24        76.64    446.48\n4           10.82     37.50      1009.23        96.62    473.90"
                    },
                    "execution_count": 2,
                    "metadata": {},
                    "output_type": "execute_result"
                }
            ],
            "source": "# renaming column names\ndf.rename(columns={'AT': 'AtmTemperature', 'V': 'ExhaustV', 'AP': 'AtmPressure', 'RH': 'RelHumidity', 'PE': 'PowerOut'}, inplace=True)\ndf.head()"
        },
        {
            "cell_type": "markdown",
            "metadata": {},
            "source": "Remove the \"NaN\" or non-existent values colums. Forst check the number of \"NaN\" values in each column"
        },
        {
            "cell_type": "code",
            "execution_count": 3,
            "metadata": {},
            "outputs": [
                {
                    "name": "stdout",
                    "output_type": "stream",
                    "text": "Number of NaN values for the column temperature : 0\nNumber of NaN values for the column exhaust_vacuum : 0\nNumber of NaN values for the column ambient_pressure : 0\nNumber of NaN values for the column relative_humidity : 0\nNumber of NaN values for the column energy_output : 0\n"
                }
            ],
            "source": "print(\"Number of NaN values for the column temperature :\", df['AtmTemperature'].isnull().sum())\nprint(\"Number of NaN values for the column exhaust_vacuum :\", df['ExhaustV'].isnull().sum())\nprint(\"Number of NaN values for the column ambient_pressure :\", df['AtmPressure'].isnull().sum())\nprint(\"Number of NaN values for the column relative_humidity :\", df['RelHumidity'].isnull().sum())\nprint(\"Number of NaN values for the column energy_output :\", df['PowerOut'].isnull().sum())"
        },
        {
            "cell_type": "markdown",
            "metadata": {},
            "source": "Since total number of \"NaN\" values is zero in each column, the removal of non-existent values is not required.\nNow, split the data frame to train and test data frames."
        },
        {
            "cell_type": "code",
            "execution_count": 3,
            "metadata": {},
            "outputs": [
                {
                    "name": "stdout",
                    "output_type": "stream",
                    "text": "AtmTemperature    12.2100\nExhaustV          24.8000\nAtmPressure        8.1600\nRelHumidity       21.5025\nPowerOut          28.6800\ndtype: float64\n"
                }
            ],
            "source": "#Applying IQR score method to remove outliers\nQ1 = df.quantile(0.25)\nQ3 = df.quantile(0.75)\nIQR = Q3 - Q1\nprint(IQR)"
        },
        {
            "cell_type": "code",
            "execution_count": 4,
            "metadata": {},
            "outputs": [
                {
                    "data": {
                        "text/plain": "(9468, 5)"
                    },
                    "execution_count": 4,
                    "metadata": {},
                    "output_type": "execute_result"
                }
            ],
            "source": "df2 = df[~((df < (Q1 - 1.5 * IQR)) |(df > (Q3 + 1.5 * IQR))).any(axis=1)]\ndf2.shape"
        },
        {
            "cell_type": "code",
            "execution_count": 10,
            "metadata": {},
            "outputs": [],
            "source": "#Splitting the data into test and train datasets\nfrom sklearn.model_selection import train_test_split\n\ntrain, test = train_test_split(df2, test_size=0.2)"
        },
        {
            "cell_type": "code",
            "execution_count": 6,
            "metadata": {},
            "outputs": [
                {
                    "data": {
                        "text/html": "<div>\n<style scoped>\n    .dataframe tbody tr th:only-of-type {\n        vertical-align: middle;\n    }\n\n    .dataframe tbody tr th {\n        vertical-align: top;\n    }\n\n    .dataframe thead th {\n        text-align: right;\n    }\n</style>\n<table border=\"1\" class=\"dataframe\">\n  <thead>\n    <tr style=\"text-align: right;\">\n      <th></th>\n      <th>AtmTemperature</th>\n      <th>ExhaustV</th>\n      <th>AtmPressure</th>\n      <th>RelHumidity</th>\n      <th>PowerOut</th>\n    </tr>\n  </thead>\n  <tbody>\n    <tr>\n      <th>2315</th>\n      <td>14.50</td>\n      <td>39.00</td>\n      <td>1017.04</td>\n      <td>75.75</td>\n      <td>465.32</td>\n    </tr>\n    <tr>\n      <th>3518</th>\n      <td>23.66</td>\n      <td>60.37</td>\n      <td>1006.91</td>\n      <td>87.13</td>\n      <td>438.59</td>\n    </tr>\n    <tr>\n      <th>7565</th>\n      <td>14.57</td>\n      <td>44.45</td>\n      <td>1021.42</td>\n      <td>66.23</td>\n      <td>462.48</td>\n    </tr>\n    <tr>\n      <th>4883</th>\n      <td>32.84</td>\n      <td>68.14</td>\n      <td>1003.59</td>\n      <td>43.88</td>\n      <td>425.18</td>\n    </tr>\n    <tr>\n      <th>9143</th>\n      <td>13.69</td>\n      <td>41.74</td>\n      <td>1021.19</td>\n      <td>60.86</td>\n      <td>471.84</td>\n    </tr>\n  </tbody>\n</table>\n</div>",
                        "text/plain": "      AtmTemperature  ExhaustV  AtmPressure  RelHumidity  PowerOut\n2315           14.50     39.00      1017.04        75.75    465.32\n3518           23.66     60.37      1006.91        87.13    438.59\n7565           14.57     44.45      1021.42        66.23    462.48\n4883           32.84     68.14      1003.59        43.88    425.18\n9143           13.69     41.74      1021.19        60.86    471.84"
                    },
                    "execution_count": 6,
                    "metadata": {},
                    "output_type": "execute_result"
                }
            ],
            "source": "train.head()"
        },
        {
            "cell_type": "code",
            "execution_count": 7,
            "metadata": {},
            "outputs": [
                {
                    "data": {
                        "text/html": "<div>\n<style scoped>\n    .dataframe tbody tr th:only-of-type {\n        vertical-align: middle;\n    }\n\n    .dataframe tbody tr th {\n        vertical-align: top;\n    }\n\n    .dataframe thead th {\n        text-align: right;\n    }\n</style>\n<table border=\"1\" class=\"dataframe\">\n  <thead>\n    <tr style=\"text-align: right;\">\n      <th></th>\n      <th>AtmTemperature</th>\n      <th>ExhaustV</th>\n      <th>AtmPressure</th>\n      <th>RelHumidity</th>\n      <th>PowerOut</th>\n    </tr>\n  </thead>\n  <tbody>\n    <tr>\n      <th>347</th>\n      <td>28.29</td>\n      <td>68.67</td>\n      <td>1005.46</td>\n      <td>69.22</td>\n      <td>436.40</td>\n    </tr>\n    <tr>\n      <th>9014</th>\n      <td>13.42</td>\n      <td>40.92</td>\n      <td>1022.84</td>\n      <td>75.89</td>\n      <td>458.49</td>\n    </tr>\n    <tr>\n      <th>8086</th>\n      <td>5.42</td>\n      <td>41.38</td>\n      <td>1020.77</td>\n      <td>86.02</td>\n      <td>491.38</td>\n    </tr>\n    <tr>\n      <th>5493</th>\n      <td>21.31</td>\n      <td>58.66</td>\n      <td>1012.67</td>\n      <td>69.36</td>\n      <td>451.96</td>\n    </tr>\n    <tr>\n      <th>2585</th>\n      <td>31.10</td>\n      <td>68.51</td>\n      <td>1012.99</td>\n      <td>54.30</td>\n      <td>428.68</td>\n    </tr>\n  </tbody>\n</table>\n</div>",
                        "text/plain": "      AtmTemperature  ExhaustV  AtmPressure  RelHumidity  PowerOut\n347            28.29     68.67      1005.46        69.22    436.40\n9014           13.42     40.92      1022.84        75.89    458.49\n8086            5.42     41.38      1020.77        86.02    491.38\n5493           21.31     58.66      1012.67        69.36    451.96\n2585           31.10     68.51      1012.99        54.30    428.68"
                    },
                    "execution_count": 7,
                    "metadata": {},
                    "output_type": "execute_result"
                }
            ],
            "source": "test.head()"
        },
        {
            "cell_type": "markdown",
            "metadata": {},
            "source": "Now, load test and train data to Spark for data modeling and evaluation"
        },
        {
            "cell_type": "code",
            "execution_count": 11,
            "metadata": {},
            "outputs": [],
            "source": "from pyspark.sql import SQLContext\nsqlContext = SQLContext(sc)"
        },
        {
            "cell_type": "code",
            "execution_count": 12,
            "metadata": {},
            "outputs": [],
            "source": "trainspark_df = sqlContext.createDataFrame(train)\ntestspark_df = sqlContext.createDataFrame(test)"
        },
        {
            "cell_type": "code",
            "execution_count": 13,
            "metadata": {},
            "outputs": [
                {
                    "name": "stdout",
                    "output_type": "stream",
                    "text": "+--------------+--------+-----------+-----------+--------+\n|AtmTemperature|ExhaustV|AtmPressure|RelHumidity|PowerOut|\n+--------------+--------+-----------+-----------+--------+\n|         23.85|   72.43|    1008.01|      88.34|  439.02|\n|         19.12|   45.01|     1014.0|      59.95|  453.24|\n|         31.68|   74.16|     1011.3|      55.94|  434.61|\n|         19.44|   39.53|    1006.99|      63.18|  457.09|\n|         12.32|   43.69|    1016.26|      83.18|   471.6|\n+--------------+--------+-----------+-----------+--------+\nonly showing top 5 rows\n\n"
                }
            ],
            "source": "trainspark_df.show(5)"
        },
        {
            "cell_type": "code",
            "execution_count": 11,
            "metadata": {},
            "outputs": [
                {
                    "name": "stdout",
                    "output_type": "stream",
                    "text": "+--------------+--------+-----------+-----------+--------+\n|AtmTemperature|ExhaustV|AtmPressure|RelHumidity|PowerOut|\n+--------------+--------+-----------+-----------+--------+\n|         28.29|   68.67|    1005.46|      69.22|   436.4|\n|         13.42|   40.92|    1022.84|      75.89|  458.49|\n|          5.42|   41.38|    1020.77|      86.02|  491.38|\n|         21.31|   58.66|    1012.67|      69.36|  451.96|\n|          31.1|   68.51|    1012.99|       54.3|  428.68|\n+--------------+--------+-----------+-----------+--------+\nonly showing top 5 rows\n\n"
                }
            ],
            "source": "testspark_df.show(5)"
        },
        {
            "cell_type": "markdown",
            "metadata": {},
            "source": "## Features and Piplelines"
        },
        {
            "cell_type": "code",
            "execution_count": 17,
            "metadata": {},
            "outputs": [
                {
                    "data": {
                        "text/plain": "VectorAssembler_bf2320780874"
                    },
                    "execution_count": 17,
                    "metadata": {},
                    "output_type": "execute_result"
                }
            ],
            "source": "# Create input features and forecast column\nfrom pyspark.ml.feature import VectorAssembler\n\nvectorizer = VectorAssembler()\nvectorizer3 = VectorAssembler()\nvectorizer2 = VectorAssembler()\n# all 4 parameters as input features\nvectorizer.setInputCols([\"AtmTemperature\", \"ExhaustV\", \"AtmPressure\", \"RelHumidity\"])\n#  3 parameters as input features\nvectorizer3.setInputCols([\"AtmTemperature\", \"ExhaustV\", \"AtmPressure\"])\n# 2 parameters as input features\nvectorizer2.setInputCols([\"AtmTemperature\", \"ExhaustV\"])\nvectorizer.setOutputCol(\"features\")\nvectorizer3.setOutputCol(\"features\")\nvectorizer2.setOutputCol(\"features\")"
        },
        {
            "cell_type": "code",
            "execution_count": 21,
            "metadata": {},
            "outputs": [
                {
                    "data": {
                        "text/plain": "Pipeline_e11b7f49b488"
                    },
                    "execution_count": 21,
                    "metadata": {},
                    "output_type": "execute_result"
                }
            ],
            "source": "# pipelines with different features for linear regression\n\nfrom pyspark.ml.regression import LinearRegression\nfrom pyspark.ml import Pipeline\n\n# Initialize linear regression learner\nlr = LinearRegression()\n\n# Setting the parameters for the method\nlr.setPredictionCol(\"Forecast_PowerOut\")\\\n  .setLabelCol(\"PowerOut\")\\\n  .setFeaturesCol(\"features\")\\\n  .setMaxIter(100)\\\n  .setRegParam(0.1)\\\n  .setElasticNetParam=0.8\n    \nlrPipeline = Pipeline()\nlrPipeline3 = Pipeline()\nlrPipeline2 = Pipeline()\nlrPipeline.setStages([vectorizer, lr])\nlrPipeline3.setStages([vectorizer3, lr])\nlrPipeline2.setStages([vectorizer2, lr])"
        },
        {
            "cell_type": "code",
            "execution_count": 22,
            "metadata": {},
            "outputs": [
                {
                    "data": {
                        "text/plain": "Pipeline_f85f39dabe10"
                    },
                    "execution_count": 22,
                    "metadata": {},
                    "output_type": "execute_result"
                }
            ],
            "source": "# pipelines with different features for random forest regressor\nfrom pyspark.ml.regression import RandomForestRegressor\n\n# Creating a RandomForestRegressor\nrf = RandomForestRegressor()\n\nrf.setLabelCol(\"PowerOut\")\\\n  .setPredictionCol(\"Forecast_PowerOut\")\\\n  .setFeaturesCol(\"features\")\\\n  .setSeed(100088121)\\\n  .setMaxDepth(10)\\\n  .setNumTrees(40)\n\n# Creating a Pipelines for randome forest regressor\nrfPipeline = Pipeline()\nrfPipeline3 = Pipeline()\nrfPipeline2 = Pipeline()\n# Setting the stages of the Pipeline\nrfPipeline.setStages([vectorizer, rf])\nrfPipeline3.setStages([vectorizer3, rf])\nrfPipeline2.setStages([vectorizer2, rf])"
        },
        {
            "cell_type": "code",
            "execution_count": 23,
            "metadata": {},
            "outputs": [
                {
                    "data": {
                        "text/plain": "Pipeline_ec70ed242a4d"
                    },
                    "execution_count": 23,
                    "metadata": {},
                    "output_type": "execute_result"
                }
            ],
            "source": "# pipelines with different features for Decision tree regressor\n\nfrom pyspark.ml.regression import DecisionTreeRegressor\nfrom pyspark.ml import Pipeline\n\n\n# Creating a DecisionTreeRegressor\ndt = DecisionTreeRegressor()\n\ndt.setLabelCol(\"PowerOut\")\\\n  .setPredictionCol(\"Forecast_PowerOut\")\\\n  .setFeaturesCol(\"features\")\\\n  .setSeed(100088121)\\\n  .setMaxBins(120)\n\n# Creating Pipelines for decision tree regressors\ndtPipeline = Pipeline()\ndtPipeline3 = Pipeline()\ndtPipeline2 = Pipeline()\n\n# Setting the stages of the Pipeline\ndtPipeline.setStages([vectorizer, dt])\ndtPipeline3.setStages([vectorizer3, dt])\ndtPipeline2.setStages([vectorizer2, dt])"
        },
        {
            "cell_type": "code",
            "execution_count": null,
            "metadata": {},
            "outputs": [],
            "source": ""
        }
    ],
    "metadata": {
        "kernelspec": {
            "display_name": "Python 3.6 with Spark",
            "language": "python3",
            "name": "python36"
        },
        "language_info": {
            "codemirror_mode": {
                "name": "ipython",
                "version": 3
            },
            "file_extension": ".py",
            "mimetype": "text/x-python",
            "name": "python",
            "nbconvert_exporter": "python",
            "pygments_lexer": "ipython3",
            "version": "3.6.8"
        }
    },
    "nbformat": 4,
    "nbformat_minor": 1
}